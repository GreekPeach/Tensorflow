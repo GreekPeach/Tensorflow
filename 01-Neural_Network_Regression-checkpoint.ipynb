{
 "cells": [
  {
   "cell_type": "code",
   "execution_count": 1,
   "id": "2f88b5fb-7628-46e7-8ce2-d91ec95a09e2",
   "metadata": {
    "editable": true,
    "scrolled": true,
    "slideshow": {
     "slide_type": ""
    },
    "tags": []
   },
   "outputs": [],
   "source": [
    "import tensorflow as tf\n"
   ]
  },
  {
   "cell_type": "code",
   "execution_count": 2,
   "id": "c1378ec7-2776-4f56-90c5-d4ddeca8fe9b",
   "metadata": {},
   "outputs": [],
   "source": [
    "import numpy as np"
   ]
  },
  {
   "cell_type": "code",
   "execution_count": 3,
   "id": "f6b43118-c3a0-46b9-bb1d-37df00e420f0",
   "metadata": {},
   "outputs": [],
   "source": [
    "import random"
   ]
  },
  {
   "cell_type": "code",
   "execution_count": 4,
   "id": "893a2aa7-175d-4809-b5e4-fcf58706b2a2",
   "metadata": {},
   "outputs": [],
   "source": [
    "import matplotlib.pyplot as plt"
   ]
  },
  {
   "cell_type": "code",
   "execution_count": null,
   "id": "752147f8-ff32-4351-bcde-7e95de79367a",
   "metadata": {},
   "outputs": [],
   "source": []
  },
  {
   "cell_type": "markdown",
   "id": "d96c7978-9536-43c4-a23e-50a79a7f0f81",
   "metadata": {
    "editable": true,
    "slideshow": {
     "slide_type": ""
    },
    "tags": []
   },
   "source": [
    "---------------------Introduction to Regression with Neural Networks---------------------------------- "
   ]
  },
  {
   "cell_type": "code",
   "execution_count": 5,
   "id": "7bd4c3e3-6a6d-4314-b37a-1d18b591cb18",
   "metadata": {},
   "outputs": [
    {
     "data": {
      "text/plain": [
       "array([-7., -4., -1.,  2.,  5.,  8., 11., 14.])"
      ]
     },
     "execution_count": 5,
     "metadata": {},
     "output_type": "execute_result"
    }
   ],
   "source": [
    "num_1d = np.array([-7.,-4.,-1.,2.,5.,8.,11.,14])\n",
    "num_1d"
   ]
  },
  {
   "cell_type": "code",
   "execution_count": 6,
   "id": "3ac9d17d-cda0-4ba9-ab16-fbe62fc058a6",
   "metadata": {},
   "outputs": [
    {
     "data": {
      "text/plain": [
       "array([ 3.,  6.,  9., 12., 15., 18., 21., 24.])"
      ]
     },
     "execution_count": 6,
     "metadata": {},
     "output_type": "execute_result"
    }
   ],
   "source": [
    "num_1dd = np.array([3.,6.,9.,12.,15.,18.,21.,24.])\n",
    "num_1dd"
   ]
  },
  {
   "cell_type": "code",
   "execution_count": 7,
   "id": "077dd693-6cb0-49e9-b2e9-227b5e47b82b",
   "metadata": {
    "scrolled": true
   },
   "outputs": [
    {
     "data": {
      "text/plain": [
       "<matplotlib.collections.PathCollection at 0x159b5122f40>"
      ]
     },
     "execution_count": 7,
     "metadata": {},
     "output_type": "execute_result"
    },
    {
     "data": {
      "image/png": "[encoded data removed]",
      "text/plain": [
       "<Figure size 640x480 with 1 Axes>"
      ]
     },
     "metadata": {},
     "output_type": "display_data"
    }
   ],
   "source": [
    "plt.style.use(\"dark_background\")\n",
    "plt.scatter(num_1d, num_1dd, color = \"blue\")\n"
   ]
  },
  {
   "cell_type": "markdown",
   "id": "e20ae22d-3ca0-4322-ad58-101a07ce5088",
   "metadata": {
    "editable": true,
    "slideshow": {
     "slide_type": ""
    },
    "tags": []
   },
   "source": [
    "---------------Input and output shapes----------------"
   ]
  },
  {
   "cell_type": "code",
   "execution_count": 8,
   "id": "3c69ff19-96c8-4495-9a1b-82fb75a61600",
   "metadata": {},
   "outputs": [
    {
     "ename": "AttributeError",
     "evalue": "module 'tensorflow' has no attribute 'constant'",
     "output_type": "error",
     "traceback": [
      "\u001b[1;31m---------------------------------------------------------------------------\u001b[0m",
      "\u001b[1;31mAttributeError\u001b[0m                            Traceback (most recent call last)",
      "Cell \u001b[1;32mIn[8], line 1\u001b[0m\n\u001b[1;32m----> 1\u001b[0m house_info \u001b[38;5;241m=\u001b[39m \u001b[43mtf\u001b[49m\u001b[38;5;241;43m.\u001b[39;49m\u001b[43mconstant\u001b[49m([\u001b[38;5;124m\"\u001b[39m\u001b[38;5;124mbedroom\u001b[39m\u001b[38;5;124m\"\u001b[39m, \u001b[38;5;124m\"\u001b[39m\u001b[38;5;124mbathroom\u001b[39m\u001b[38;5;124m\"\u001b[39m,\u001b[38;5;124m\"\u001b[39m\u001b[38;5;124mgarage\u001b[39m\u001b[38;5;124m\"\u001b[39m])\n\u001b[0;32m      2\u001b[0m house_price \u001b[38;5;241m=\u001b[39m tf\u001b[38;5;241m.\u001b[39mconstant([\u001b[38;5;241m939700\u001b[39m])\n\u001b[0;32m      3\u001b[0m house_info,house_price\n",
      "\u001b[1;31mAttributeError\u001b[0m: module 'tensorflow' has no attribute 'constant'"
     ]
    }
   ],
   "source": [
    "house_info = tf.constant([\"bedroom\", \"bathroom\",\"garage\"])\n",
    "house_price = tf.constant([939700])\n",
    "house_info,house_price"
   ]
  },
  {
   "cell_type": "code",
   "execution_count": null,
   "id": "a5002c82-f570-427c-83fa-5345f3844ad9",
   "metadata": {},
   "outputs": [],
   "source": [
    "input_shape = num_1d[0].shape\n",
    "output_shape = num_1dd[0].shape\n",
    "input_shape, output_shape"
   ]
  },
  {
   "cell_type": "code",
   "execution_count": null,
   "id": "3c71740f-3293-4f4a-b3d4-b79aa91c9b15",
   "metadata": {},
   "outputs": [],
   "source": [
    "num_1d[1], num_1dd[1]"
   ]
  },
  {
   "cell_type": "code",
   "execution_count": null,
   "id": "f3dbb7af-4647-493f-9922-5f1db31ff054",
   "metadata": {},
   "outputs": [],
   "source": [
    "num_1d[0], num_1dd[0]"
   ]
  },
  {
   "cell_type": "code",
   "execution_count": null,
   "id": "a96ebd70-09e4-4c5a-b061-97a3bdc3d85d",
   "metadata": {},
   "outputs": [],
   "source": [
    "x = tf.constant(num_1d)\n",
    "y = tf.constant(num_1dd)\n",
    "x , y"
   ]
  },
  {
   "cell_type": "code",
   "execution_count": null,
   "id": "89d87449-b437-40e1-a18e-136b128eefb5",
   "metadata": {},
   "outputs": [],
   "source": [
    "plt.scatter(x,y)"
   ]
  },
  {
   "cell_type": "markdown",
   "id": "8f1ef3ed-29d6-406c-815a-237d66c71bba",
   "metadata": {},
   "source": [
    "------------------Steps in modeling with Tensorflow------------------------\n",
    "* Creating a model, input, output, hiden layers\n",
    "* Compile the model, loss function (how wrong it is), optimiser (tell it how to improve), evaluation metrics( interpret the performance)\n",
    "* Fitting a model (let it find patterns, features and labels)"
   ]
  },
  {
   "cell_type": "code",
   "execution_count": null,
   "id": "19a6817c-e4e4-4e37-94f2-67570bd5f5c0",
   "metadata": {},
   "outputs": [],
   "source": [
    "#set random seed for reproducability\n",
    "tf.random.set_seed(42)\n",
    "# Create model using Sequencial API\n",
    "model = tf.keras.Sequential([\n",
    "    tf.keras.layers.Dense(1)\n",
    "])\n",
    "\n",
    "# Compile the model(mae = mean, absolute, error) (std = stockastic, gradient, decent)\n",
    "model.compile(loss=tf.keras.losses.mae,\n",
    "             optimizer=tf.keras.optimizers.SGD(),\n",
    "             metrics=[\"mae\"])\n",
    "# Fit the model\n",
    "model.fit(x,y, epocs=5)"
   ]
  },
  {
   "cell_type": "code",
   "execution_count": null,
   "id": "e5e2ee29-9e97-4c96-aeda-72114ebb2bf0",
   "metadata": {},
   "outputs": [],
   "source": []
  },
  {
   "cell_type": "code",
   "execution_count": null,
   "id": "6e5ace75-0629-4c56-b54d-eb7eea5343d4",
   "metadata": {},
   "outputs": [],
   "source": []
  },
  {
   "cell_type": "code",
   "execution_count": null,
   "id": "c3f8a827-ba4f-4b0e-8192-d1becdde7047",
   "metadata": {},
   "outputs": [],
   "source": []
  },
  {
   "cell_type": "code",
   "execution_count": null,
   "id": "c20f1042-85b3-487d-922a-9caafa76cbad",
   "metadata": {},
   "outputs": [],
   "source": []
  },
  {
   "cell_type": "code",
   "execution_count": null,
   "id": "023c6603-bbf1-4e7d-a721-d6c3f0f79d86",
   "metadata": {},
   "outputs": [],
   "source": []
  },
  {
   "cell_type": "code",
   "execution_count": null,
   "id": "3340a3e4-50f2-43ea-8967-30c716698289",
   "metadata": {},
   "outputs": [],
   "source": []
  },
  {
   "cell_type": "code",
   "execution_count": null,
   "id": "38bf0513-5474-4f92-a4d5-51b19d7376fc",
   "metadata": {},
   "outputs": [],
   "source": []
  },
  {
   "cell_type": "code",
   "execution_count": null,
   "id": "89465925-2735-4005-b53e-ed9e177f0513",
   "metadata": {},
   "outputs": [],
   "source": []
  },
  {
   "cell_type": "code",
   "execution_count": null,
   "id": "dd48971d-074a-49bf-ad97-3a62b0778427",
   "metadata": {},
   "outputs": [],
   "source": []
  },
  {
   "cell_type": "code",
   "execution_count": null,
   "id": "e4b43b40-fabb-48c1-86f0-c394ed3e228e",
   "metadata": {},
   "outputs": [],
   "source": []
  },
  {
   "cell_type": "code",
   "execution_count": null,
   "id": "396ab0c2-9ab8-4a70-ae4f-94ae08aa9600",
   "metadata": {},
   "outputs": [],
   "source": []
  },
  {
   "cell_type": "code",
   "execution_count": null,
   "id": "92f43ef6-319d-4969-a511-1ee5c58a986d",
   "metadata": {},
   "outputs": [],
   "source": []
  },
  {
   "cell_type": "code",
   "execution_count": null,
   "id": "6443664a-6637-454c-9594-d5e420be82c0",
   "metadata": {},
   "outputs": [],
   "source": []
  },
  {
   "cell_type": "code",
   "execution_count": null,
   "id": "18d04c0b-b8c0-4a7c-8e1c-f31c45ac3e67",
   "metadata": {},
   "outputs": [],
   "source": []
  },
  {
   "cell_type": "code",
   "execution_count": null,
   "id": "42700631-7798-48a5-8691-a5c81cb2d117",
   "metadata": {},
   "outputs": [],
   "source": []
  },
  {
   "cell_type": "code",
   "execution_count": null,
   "id": "61779ae0-6496-4cdc-aa0c-52d0fcf8fc05",
   "metadata": {},
   "outputs": [],
   "source": []
  },
  {
   "cell_type": "code",
   "execution_count": null,
   "id": "5890ead0-7643-4817-a88d-0619bf69399b",
   "metadata": {},
   "outputs": [],
   "source": []
  },
  {
   "cell_type": "code",
   "execution_count": null,
   "id": "8982ff3b-74e3-43c9-8ed1-9e8fafdb21a1",
   "metadata": {},
   "outputs": [],
   "source": []
  },
  {
   "cell_type": "code",
   "execution_count": null,
   "id": "b87399de-6e70-42a3-8d67-9c3f484647b0",
   "metadata": {},
   "outputs": [],
   "source": []
  },
  {
   "cell_type": "code",
   "execution_count": null,
   "id": "3aee919d-9b36-48c8-aece-b70ca2ea8969",
   "metadata": {},
   "outputs": [],
   "source": []
  },
  {
   "cell_type": "code",
   "execution_count": null,
   "id": "de0e3cf4-7b68-43e1-8ffc-b8c51a800681",
   "metadata": {},
   "outputs": [],
   "source": []
  },
  {
   "cell_type": "code",
   "execution_count": null,
   "id": "5c1501c9-cf6b-46ee-8481-aaeae049435d",
   "metadata": {},
   "outputs": [],
   "source": []
  },
  {
   "cell_type": "code",
   "execution_count": null,
   "id": "739dfeda-06f7-4597-8ced-c00935446122",
   "metadata": {},
   "outputs": [],
   "source": []
  }
 ],
 "metadata": {
  "kernelspec": {
   "display_name": "Python 3 (ipykernel)",
   "language": "python",
   "name": "python3"
  },
  "language_info": {
   "codemirror_mode": {
    "name": "ipython",
    "version": 3
   },
   "file_extension": ".py",
   "mimetype": "text/x-python",
   "name": "python",
   "nbconvert_exporter": "python",
   "pygments_lexer": "ipython3",
   "version": "3.9.18"
  }
 },
 "nbformat": 4,
 "nbformat_minor": 5
}
